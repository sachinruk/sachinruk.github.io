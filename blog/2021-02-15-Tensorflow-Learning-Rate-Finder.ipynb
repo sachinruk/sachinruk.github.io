{
 "cells": [
  {
   "cell_type": "raw",
   "metadata": {},
   "source": [
    "---\n",
    "aliases:\n",
    "- /2021/02/15/Tensorflow-Learning-Rate-Finder\n",
    "date: '2021-02-15'\n",
    "description: Using Callbacks to get Optimal Learning Rate\n",
    "output-file: 2021-02-15-tensorflow-learning-rate-finder.html\n",
    "title: Tensorflow Learning Rate Finder\n",
    "\n",
    "---\n",
    "\n"
   ]
  },
  {
   "cell_type": "markdown",
   "metadata": {},
   "source": [
    "The following tutorial shows how to implement a learning rate finder from scratch, using Keras callbacks.\n",
    "\n",
    "But first a quick refresher on how we would do model fitting on a simple network:"
   ]
  },
  {
   "cell_type": "markdown",
   "metadata": {},
   "source": [
    "## Imports and Data"
   ]
  },
  {
   "cell_type": "code",
   "execution_count": 3,
   "metadata": {
    "executionInfo": {
     "elapsed": 1056,
     "status": "ok",
     "timestamp": 1613382649454,
     "user": {
      "displayName": "Sachin Abeywardana",
      "photoUrl": "https://lh3.googleusercontent.com/a-/AOh14GiNRLlpAolGeTkvIaXft0Lq63atAhxdJZbGhq8MLQ=s64",
      "userId": "16787685245458597769"
     },
     "user_tz": -660
    },
    "id": "Ekje2u6FF_IG"
   },
   "outputs": [],
   "source": [
    "import matplotlib.pyplot as plt\n",
    "import numpy as np\n",
    "import tensorflow as tf\n",
    "from tensorflow import keras\n",
    "from tensorflow.keras.losses import SparseCategoricalCrossentropy\n",
    "\n",
    "%matplotlib inline"
   ]
  },
  {
   "cell_type": "code",
   "execution_count": 2,
   "metadata": {
    "colab": {
     "base_uri": "https://localhost:8080/"
    },
    "executionInfo": {
     "elapsed": 1792,
     "status": "ok",
     "timestamp": 1613382619990,
     "user": {
      "displayName": "Sachin Abeywardana",
      "photoUrl": "https://lh3.googleusercontent.com/a-/AOh14GiNRLlpAolGeTkvIaXft0Lq63atAhxdJZbGhq8MLQ=s64",
      "userId": "16787685245458597769"
     },
     "user_tz": -660
    },
    "id": "pQ4kPT_GGKcZ",
    "outputId": "6e033dc8-80dc-49d1-9b2f-1fba386709da"
   },
   "outputs": [
    {
     "name": "stdout",
     "output_type": "stream",
     "text": [
      "Downloading data from https://storage.googleapis.com/tensorflow/tf-keras-datasets/mnist.npz\n",
      "11493376/11490434 [==============================] - 0s 0us/step\n"
     ]
    }
   ],
   "source": [
    "(x_train, y_train), (x_test, y_test) = tf.keras.datasets.mnist.load_data()\n",
    "x_train = x_train.reshape(len(x_train), -1)\n",
    "x_test = x_test.reshape(len(x_test), -1)\n",
    "# Rescale the images from [0,255] to the [0.0,1.0] range.\n",
    "x_train, x_test = x_train/255.0, x_test/255.0"
   ]
  },
  {
   "cell_type": "markdown",
   "metadata": {
    "id": "JaIlb6nnK0JD"
   },
   "source": [
    "## Model"
   ]
  },
  {
   "cell_type": "code",
   "execution_count": 13,
   "metadata": {
    "executionInfo": {
     "elapsed": 1261,
     "status": "ok",
     "timestamp": 1613383058685,
     "user": {
      "displayName": "Sachin Abeywardana",
      "photoUrl": "https://lh3.googleusercontent.com/a-/AOh14GiNRLlpAolGeTkvIaXft0Lq63atAhxdJZbGhq8MLQ=s64",
      "userId": "16787685245458597769"
     },
     "user_tz": -660
    },
    "id": "5_vkgcvKGQww"
   },
   "outputs": [],
   "source": [
    "model = keras.Sequential()\n",
    "model.add(keras.layers.Input(x_train.shape[-1]))\n",
    "model.add(keras.layers.Dense(100, activation=\"relu\"))\n",
    "model.add(keras.layers.Dense(10, activation=\"softmax\"))\n",
    "\n",
    "model.compile(loss=\"sparse_categorical_crossentropy\", optimizer=\"adam\", metrics=[\"accuracy\"])"
   ]
  },
  {
   "cell_type": "code",
   "execution_count": 14,
   "metadata": {
    "colab": {
     "base_uri": "https://localhost:8080/"
    },
    "executionInfo": {
     "elapsed": 14256,
     "status": "ok",
     "timestamp": 1613383074167,
     "user": {
      "displayName": "Sachin Abeywardana",
      "photoUrl": "https://lh3.googleusercontent.com/a-/AOh14GiNRLlpAolGeTkvIaXft0Lq63atAhxdJZbGhq8MLQ=s64",
      "userId": "16787685245458597769"
     },
     "user_tz": -660
    },
    "id": "kbiIjnA_G7sa",
    "outputId": "9795b8b4-5edf-41e1-808c-961bc93a71de"
   },
   "outputs": [
    {
     "name": "stdout",
     "output_type": "stream",
     "text": [
      "Epoch 1/5\n",
      "938/938 [==============================] - 3s 3ms/step - loss: 0.5480 - accuracy: 0.8500\n",
      "Epoch 2/5\n",
      "938/938 [==============================] - 3s 3ms/step - loss: 0.1601 - accuracy: 0.9546\n",
      "Epoch 3/5\n",
      "938/938 [==============================] - 3s 3ms/step - loss: 0.1106 - accuracy: 0.9681\n",
      "Epoch 4/5\n",
      "938/938 [==============================] - 2s 3ms/step - loss: 0.0817 - accuracy: 0.9773\n",
      "Epoch 5/5\n",
      "938/938 [==============================] - 2s 3ms/step - loss: 0.0632 - accuracy: 0.9811\n"
     ]
    },
    {
     "data": {
      "text/plain": [
       "<tensorflow.python.keras.callbacks.History at 0x7f60660ca0f0>"
      ]
     },
     "execution_count": 14,
     "metadata": {
      "tags": []
     },
     "output_type": "execute_result"
    }
   ],
   "source": [
    "model.fit(x_train, y_train, batch_size=64, epochs=5)"
   ]
  },
  {
   "cell_type": "markdown",
   "metadata": {
    "id": "VDYORgw7K6Vj"
   },
   "source": [
    "## LR Finder\n",
    "\n",
    "Let me outline the logic behind LR finder before we dive into the code. The basic idea is to vary the learning rate and note down the loss. At a certain point when the learning rate is too high the loss will start increasing again.\n",
    "\n",
    "Therefore the tasks that we have to do in order are:\n",
    "1. Get the minimum and maximum learning rate we are willing to look at.\n",
    "2. Initialise buffers to hold the learning rate and losses.\n",
    "3. Before we begin this process, get the current model weights so we can restore it later.\n",
    "4. Get a batch, and get the loss for that batch, and increase the learning rate.\n",
    "5. Repeat the above step until maximum learning rate is reached.\n",
    "6. Reset old weights to model.\n",
    "7. Plot the model.\n",
    "\n",
    "The above 7 steps can be seen in the `LRFind` class below. `on_train_begin`, `on_train_batch_end`, `on_train_end` are simply callback functions provided by the keras API. Hopefully, they are self explanatory."
   ]
  },
  {
   "cell_type": "code",
   "execution_count": 15,
   "metadata": {
    "executionInfo": {
     "elapsed": 1349,
     "status": "ok",
     "timestamp": 1613383139426,
     "user": {
      "displayName": "Sachin Abeywardana",
      "photoUrl": "https://lh3.googleusercontent.com/a-/AOh14GiNRLlpAolGeTkvIaXft0Lq63atAhxdJZbGhq8MLQ=s64",
      "userId": "16787685245458597769"
     },
     "user_tz": -660
    },
    "id": "J7IzEp6xHUww"
   },
   "outputs": [],
   "source": [
    "class LRFind(tf.keras.callbacks.Callback): \n",
    "    def __init__(self, min_lr, max_lr, n_rounds): \n",
    "        self.min_lr = min_lr\n",
    "        self.max_lr = max_lr\n",
    "        self.step_up = (max_lr / min_lr) ** (1 / n_rounds)\n",
    "        self.lrs = []\n",
    "        self.losses = []\n",
    "     \n",
    "    def on_train_begin(self, logs=None):\n",
    "        self.weights = self.model.get_weights()\n",
    "        self.model.optimizer.lr = self.min_lr\n",
    "\n",
    "    def on_train_batch_end(self, batch, logs=None):\n",
    "        self.lrs.append(self.model.optimizer.lr.numpy())\n",
    "        self.losses.append(logs[\"loss\"])\n",
    "        self.model.optimizer.lr = self.model.optimizer.lr * self.step_up\n",
    "        if self.model.optimizer.lr > self.max_lr:\n",
    "            self.model.stop_training = True\n",
    "        \n",
    "    def on_train_end(self, logs=None):\n",
    "        self.model.set_weights(self.weights)"
   ]
  },
  {
   "cell_type": "markdown",
   "metadata": {
    "id": "cneeYYFANAhx"
   },
   "source": [
    "We want to reset the model since it already learnt something decent above, but feel free to skip the next cell to see if results differ."
   ]
  },
  {
   "cell_type": "code",
   "execution_count": 17,
   "metadata": {
    "executionInfo": {
     "elapsed": 1164,
     "status": "ok",
     "timestamp": 1613383581040,
     "user": {
      "displayName": "Sachin Abeywardana",
      "photoUrl": "https://lh3.googleusercontent.com/a-/AOh14GiNRLlpAolGeTkvIaXft0Lq63atAhxdJZbGhq8MLQ=s64",
      "userId": "16787685245458597769"
     },
     "user_tz": -660
    },
    "id": "ubN1x1krJ685"
   },
   "outputs": [],
   "source": [
    "model = keras.Sequential()\n",
    "model.add(keras.layers.Input(x_train.shape[-1]))\n",
    "model.add(keras.layers.Dense(100, activation=\"relu\"))\n",
    "model.add(keras.layers.Dense(10, activation=\"softmax\"))\n",
    "\n",
    "model.compile(loss=\"sparse_categorical_crossentropy\", optimizer=\"adam\", metrics=[\"accuracy\"])"
   ]
  },
  {
   "cell_type": "markdown",
   "metadata": {
    "id": "Nr2AzmzvNT7g"
   },
   "source": [
    "Before we go ahead and run learning rate finder, a few things we should define. \n",
    "- First, we need to use `tf.data.Dataset.from_tensor_slices` incase there aren't enough batches per epoch for learning rate to go from `min_lr` to `max_lr`. \n",
    "- We use `EPOCHS=1` but, this is a repeating dataset forever as seen in line 6 below. It is `lr_finder_steps` that force this repetition to stop at 400 batches.\n",
    "- Instead of `model.fit(x_train, y_train,...)`, we use `model.fit(train_dataset)`.\n",
    "- When plotting we use the log scale since we increase learning rate multiplicatively."
   ]
  },
  {
   "cell_type": "code",
   "execution_count": 22,
   "metadata": {
    "colab": {
     "base_uri": "https://localhost:8080/",
     "height": 287
    },
    "executionInfo": {
     "elapsed": 3386,
     "status": "ok",
     "timestamp": 1613384831335,
     "user": {
      "displayName": "Sachin Abeywardana",
      "photoUrl": "https://lh3.googleusercontent.com/a-/AOh14GiNRLlpAolGeTkvIaXft0Lq63atAhxdJZbGhq8MLQ=s64",
      "userId": "16787685245458597769"
     },
     "user_tz": -660
    },
    "id": "WU23zzVMHbJn",
    "outputId": "2887be70-7c98-4a59-eaa6-ab8bafa04625"
   },
   "outputs": [
    {
     "name": "stdout",
     "output_type": "stream",
     "text": [
      "400/400 [==============================] - 2s 4ms/step - loss: 1.7651 - accuracy: 0.4492\n"
     ]
    },
    {
     "data": {
      "image/png": "[encoded data removed]",
      "text/plain": [
       "<Figure size 432x288 with 1 Axes>"
      ]
     },
     "metadata": {
      "needs_background": "light",
      "tags": []
     },
     "output_type": "display_data"
    }
   ],
   "source": [
    "EPOCHS = 1\n",
    "BATCH_SIZE = 64\n",
    "lr_finder_steps = 400\n",
    "lr_find = LRFind(1e-6, 1e1, lr_finder_steps)\n",
    "train_dataset = tf.data.Dataset.from_tensor_slices((x_train, y_train))\\\n",
    "                    .repeat()\\\n",
    "                    .shuffle(2048)\\\n",
    "                    .batch(BATCH_SIZE)\n",
    "model.fit(\n",
    "    train_dataset,\n",
    "    steps_per_epoch=lr_finder_steps,\n",
    "    epochs=EPOCHS,\n",
    "    callbacks=[lr_find]\n",
    ")\n",
    "\n",
    "plt.plot(lr_find.lrs, lr_find.losses)\n",
    "plt.xscale('log')\n",
    "plt.show()"
   ]
  },
  {
   "cell_type": "markdown",
   "metadata": {
    "id": "FSZTKdrPPHXs"
   },
   "source": [
    "So looking at the plot above, the minimum occurs at 0.1, however this is most likely going to be unstable. So a good learning rate to use would be 0.01.\n",
    "\n",
    "## Shameless Self Promotion\n",
    "I have a Machine Learning (and Deep Learning) [course on Udemy](https://www.udemy.com/course/machine-learning-and-data-science-2021/?referralCode=E79228C7436D74315787). If you use the code DEEPSCHOOL2021 you can get the course for `$15` instead of the usual `$99`."
   ]
  },
  {
   "cell_type": "code",
   "execution_count": null,
   "metadata": {
    "id": "IoifI8KdJ2fh"
   },
   "outputs": [],
   "source": []
  }
 ],
 "metadata": {
  "colab": {
   "authorship_tag": "ABX9TyOF5FvsF6QekionFafDZBPJ",
   "collapsed_sections": [],
   "name": "Tensorflow Learning Rate Finder.ipynb",
   "provenance": []
  },
  "kernelspec": {
   "display_name": "Python 3",
   "language": "python",
   "name": "python3"
  },
  "language_info": {
   "codemirror_mode": {
    "name": "ipython",
    "version": 3
   },
   "file_extension": ".py",
   "mimetype": "text/x-python",
   "name": "python",
   "nbconvert_exporter": "python",
   "pygments_lexer": "ipython3",
   "version": "3.7.9-final"
  }
 },
 "nbformat": 4,
 "nbformat_minor": 1
}
