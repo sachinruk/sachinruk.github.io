{
 "cells": [
  {
   "cell_type": "raw",
   "metadata": {
    "vscode": {
     "languageId": "raw"
    }
   },
   "source": [
    "---\n",
    "aliases:\n",
    "- /pytorch/2022/03/20/kmeans\n",
    "author: Sachin Abeywardana\n",
    "branch: master\n",
    "categories:\n",
    "- pytorch\n",
    "date: '2022-03-20'\n",
    "description: Implementing kmeans with cosine distance\n",
    "image: ../images/kmeans.jpg\n",
    "output-file: 2022-03-20-kmeans.html\n",
    "title: \"KMeans in PyTorch with Cosine Distance\\U0001F967\\U0001F526\"\n",
    "toc: true\n",
    "\n",
    "---\n",
    "\n"
   ]
  },
  {
   "cell_type": "code",
   "execution_count": 1,
   "id": "1476c0b2",
   "metadata": {},
   "outputs": [],
   "source": [
    "#| include: false\n",
    "import matplotlib.pyplot as plt\n",
    "import numpy as np\n",
    "import torch\n",
    "import torch.nn.functional as F\n",
    "from tqdm.auto import tqdm"
   ]
  },
  {
   "cell_type": "markdown",
   "id": "d380a85d-f63a-4150-9d80-74c643f5cfd7",
   "metadata": {},
   "source": [
    "## Introduction\n",
    "Kmeans is one of the easiest and fastest clustering algorithms. Here we tweak the algorithm to cluster vectors with unit length.\n",
    "\n",
    "## Data\n",
    "We randomly generate a million data points with 768 dimensions (usual size in transformer embeddings). And then we normalize all those data points to unit length."
   ]
  },
  {
   "cell_type": "code",
   "execution_count": 2,
   "id": "29249f6d",
   "metadata": {},
   "outputs": [],
   "source": [
    "N = 1000000\n",
    "D = 768\n",
    "x = F.normalize(torch.randn(N, D), dim=-1)"
   ]
  },
  {
   "cell_type": "markdown",
   "id": "85b1c324-f0c4-437f-8410-bfc3c1a941fe",
   "metadata": {},
   "source": [
    "## Algorithm\n",
    "The following shows our kmeans implementation. The steps are as follows:\n",
    "1. Choose `n_clusters` points from our dataset randomly and set them as our initial centroids.\n",
    "2. Iterate through all datapoints and assign each point to one of the centroids.\n",
    "3. Recalculate centroids based by averaging datapoints assigned to each cluster. As an additional step to usual kmeans, normalize to unit length.\n",
    "4. Repeat from step 2, for `epochs` iterations.\n",
    "\n",
    "In order to preserve some memory usage we calculate similarity batch-wise and store simply the largest index (`argmax`)."
   ]
  },
  {
   "cell_type": "code",
   "execution_count": 3,
   "id": "843a8e29",
   "metadata": {},
   "outputs": [],
   "source": [
    "class KMeans:\n",
    "    def __init__(self, n_clusters, batch_size, epochs):\n",
    "        self.n_clusters = n_clusters\n",
    "        self.batch_size = batch_size\n",
    "        self.epochs = epochs\n",
    "        self.centers = None\n",
    "        self.similarities = []\n",
    "        \n",
    "    def fit(self, x):\n",
    "        if self.centers is None:\n",
    "            idx = np.random.choice(len(x), self.n_clusters, replace=False)\n",
    "            centers = x[idx]\n",
    "        else:\n",
    "            centers = self.centers\n",
    "        \n",
    "        for _ in range(self.epochs):\n",
    "            batch_cluster = []\n",
    "            similarity_mean = 0\n",
    "            for i in tqdm(range(0, len(x), self.batch_size)):\n",
    "                similarity, idx = (x[i:i+self.batch_size] @ centers.T).max(dim=-1)\n",
    "                similarity_mean += similarity.sum()\n",
    "                batch_cluster.append(idx)\n",
    "            x_assigned_cluster = torch.cat(batch_cluster)    \n",
    "            centers = torch.stack(\n",
    "                [\n",
    "                    F.normalize(x[x_assigned_cluster==i].mean(dim=0), dim=-1)\n",
    "                    for i in range(self.n_clusters)\n",
    "                ]\n",
    "            )\n",
    "            self.similarities.append(similarity_mean / len(x))\n",
    "        \n",
    "        self.centers = centers\n",
    "                "
   ]
  },
  {
   "cell_type": "code",
   "execution_count": 4,
   "id": "5d08805e",
   "metadata": {},
   "outputs": [
    {
     "data": {
      "application/vnd.jupyter.widget-view+json": {
       "model_id": "d515d5521b6a480a95027d5cd539b7da",
       "version_major": 2,
       "version_minor": 0
      },
      "text/plain": [
       "  0%|          | 0/15625 [00:00<?, ?it/s]"
      ]
     },
     "metadata": {},
     "output_type": "display_data"
    },
    {
     "data": {
      "application/vnd.jupyter.widget-view+json": {
       "model_id": "4fd78bc9a5334788a43c2fd27c439cc0",
       "version_major": 2,
       "version_minor": 0
      },
      "text/plain": [
       "  0%|          | 0/15625 [00:00<?, ?it/s]"
      ]
     },
     "metadata": {},
     "output_type": "display_data"
    },
    {
     "data": {
      "application/vnd.jupyter.widget-view+json": {
       "model_id": "122b894234bf4724a3c8a2cf98ef5a62",
       "version_major": 2,
       "version_minor": 0
      },
      "text/plain": [
       "  0%|          | 0/15625 [00:00<?, ?it/s]"
      ]
     },
     "metadata": {},
     "output_type": "display_data"
    },
    {
     "data": {
      "application/vnd.jupyter.widget-view+json": {
       "model_id": "ae99b18e6f2b47b3b3b8aa5b0157e04a",
       "version_major": 2,
       "version_minor": 0
      },
      "text/plain": [
       "  0%|          | 0/15625 [00:00<?, ?it/s]"
      ]
     },
     "metadata": {},
     "output_type": "display_data"
    },
    {
     "data": {
      "application/vnd.jupyter.widget-view+json": {
       "model_id": "86a182998df447c2b581f2fbf6f87967",
       "version_major": 2,
       "version_minor": 0
      },
      "text/plain": [
       "  0%|          | 0/15625 [00:00<?, ?it/s]"
      ]
     },
     "metadata": {},
     "output_type": "display_data"
    },
    {
     "data": {
      "application/vnd.jupyter.widget-view+json": {
       "model_id": "33073429b50c4ac9a07ceb544b413d58",
       "version_major": 2,
       "version_minor": 0
      },
      "text/plain": [
       "  0%|          | 0/15625 [00:00<?, ?it/s]"
      ]
     },
     "metadata": {},
     "output_type": "display_data"
    },
    {
     "data": {
      "application/vnd.jupyter.widget-view+json": {
       "model_id": "e34a1d542d2843a39293301ba8086565",
       "version_major": 2,
       "version_minor": 0
      },
      "text/plain": [
       "  0%|          | 0/15625 [00:00<?, ?it/s]"
      ]
     },
     "metadata": {},
     "output_type": "display_data"
    },
    {
     "data": {
      "application/vnd.jupyter.widget-view+json": {
       "model_id": "4afe508ba0a34d04814469ec62212987",
       "version_major": 2,
       "version_minor": 0
      },
      "text/plain": [
       "  0%|          | 0/15625 [00:00<?, ?it/s]"
      ]
     },
     "metadata": {},
     "output_type": "display_data"
    },
    {
     "data": {
      "application/vnd.jupyter.widget-view+json": {
       "model_id": "edf943a21019458693c923194d6ea0c9",
       "version_major": 2,
       "version_minor": 0
      },
      "text/plain": [
       "  0%|          | 0/15625 [00:00<?, ?it/s]"
      ]
     },
     "metadata": {},
     "output_type": "display_data"
    },
    {
     "data": {
      "application/vnd.jupyter.widget-view+json": {
       "model_id": "f5f0e77aa2ed4caca9cccfbd0f397a35",
       "version_major": 2,
       "version_minor": 0
      },
      "text/plain": [
       "  0%|          | 0/15625 [00:00<?, ?it/s]"
      ]
     },
     "metadata": {},
     "output_type": "display_data"
    }
   ],
   "source": [
    "kmeans = KMeans(1000, 64, 10)\n",
    "kmeans.fit(x)"
   ]
  },
  {
   "cell_type": "markdown",
   "id": "cc886dc8-d63d-412c-b000-d2d5573c164f",
   "metadata": {},
   "source": [
    "You can see the similarities converging below:"
   ]
  },
  {
   "cell_type": "code",
   "execution_count": 5,
   "id": "1b03e742",
   "metadata": {},
   "outputs": [
    {
     "data": {
      "text/plain": [
       "[<matplotlib.lines.Line2D at 0x7fbab0dac3d0>]"
      ]
     },
     "execution_count": 5,
     "metadata": {},
     "output_type": "execute_result"
    },
    {
     "data": {
      "image/png": "[encoded data removed]",
      "text/plain": [
       "<Figure size 432x288 with 1 Axes>"
      ]
     },
     "metadata": {
      "needs_background": "light"
     },
     "output_type": "display_data"
    }
   ],
   "source": [
    "plt.plot(kmeans.similarities)"
   ]
  },
  {
   "cell_type": "markdown",
   "id": "5f4c8b36-368b-4656-8c64-2935580d88c0",
   "metadata": {},
   "source": [
    "## Shameless Self Promotion\n",
    "If you enjoyed the tutorial [buy my course](https://www.udemy.com/course/machine-learning-and-data-science-2021/?referralCode=E79228C7436D74315787) (usually 90% off)."
   ]
  },
  {
   "cell_type": "code",
   "execution_count": null,
   "id": "378fe557-9076-4a3f-be67-2ecaf74b89ce",
   "metadata": {},
   "outputs": [],
   "source": []
  }
 ],
 "metadata": {
  "kernelspec": {
   "display_name": "Python 3 (ipykernel)",
   "language": "python",
   "name": "python3"
  },
  "language_info": {
   "codemirror_mode": {
    "name": "ipython",
    "version": 3
   },
   "file_extension": ".py",
   "mimetype": "text/x-python",
   "name": "python",
   "nbconvert_exporter": "python",
   "pygments_lexer": "ipython3",
   "version": "3.9.7"
  }
 },
 "nbformat": 4,
 "nbformat_minor": 5
}
