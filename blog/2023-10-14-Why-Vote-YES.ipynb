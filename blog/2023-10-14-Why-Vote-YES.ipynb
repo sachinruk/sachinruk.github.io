{
 "cells": [
  {
   "cell_type": "markdown",
   "metadata": {},
   "source": [
    "---\n",
    "author: Sachin Abeywardana\n",
    "badges: true\n",
    "branch: master\n",
    "categories:\n",
    "- politics\n",
    "date: '2023-10-14'\n",
    "excerpt: Why voting YES in this referendum is the right thing to do.\n",
    "image: ../images/vote_yes_compressed.jpg\n",
    "title: Why I am voting YES!\n",
    "toc: true\n",
    "\n",
    "---"
   ]
  },
  {
   "cell_type": "markdown",
   "metadata": {},
   "source": [
    "![](../images/vote_yes_compressed.jpg)\n",
    "\n",
    "Today walking past a voting booth I saw a person with a similar background to me wearing a \"Vote No\" shirt. Now I am well aware that there are around 20% of Aboriginal and Torres Strait islanders voting no. Most of their reasoning to my understanding is about how this doesn't go far enough. This is a respectable stance.\n",
    "\n",
    "However, I simply cannot comprehend why an immigrant, or people of colour would vote no. There is literally nothing to lose here by voting YES.\n",
    "\n",
    "One of the talking points by this man voting no (and that camp) was that we are already equal under the law. It wasn't so long ago that the indigenous people of this country were [murdered](https://www.newcastle.edu.au/newsroom/featured/new-evidence-reveals-aboriginal-massacres-committed-on-extensive-scale), land stolen, and children ripped from their arms. All under a legal system that was designed to oppress them.\n",
    "\n",
    "I have two children, a daughter and a son. The reality is that my daughter will be treated differently to my son. Both of them will be treated differently had they had an anglo-saxon name. She will be paid less than her male counterpart. Voting yes is about (taking steps towards) narrowing the gap, it's about acknowledging the pain that the aboriginal people went through and continue to go through. It's about acknowledging that we are all equal and that we all deserve the same opportunities. This is about making sure my daughter and my son are viewed the same as any other person.\n",
    "\n",
    "\n"
   ]
  },
  {
   "cell_type": "markdown",
   "metadata": {},
   "source": []
  }
 ],
 "metadata": {
  "language_info": {
   "name": "python"
  }
 },
 "nbformat": 4,
 "nbformat_minor": 2
}
