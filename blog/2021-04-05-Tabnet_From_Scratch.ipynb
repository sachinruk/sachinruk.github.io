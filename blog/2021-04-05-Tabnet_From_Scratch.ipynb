{
 "cells": [
  {
   "cell_type": "raw",
   "metadata": {},
   "source": [
    "---\n",
    "aliases:\n",
    "- /Tensorflow/2021/04/05/Tabnet_From_Scratch\n",
    "author: Sachin Abeywardana\n",
    "badges: true\n",
    "branch: master\n",
    "categories:\n",
    "- Tensorflow\n",
    "date: '2021-04-05'\n",
    "description: Creating TabNet from Scratch in Tensorflow 2.0\n",
    "image: ../images/tabnet.png\n",
    "output-file: 2021-04-05-tabnet_from_scratch.html\n",
    "sticky_rank: 2\n",
    "title: The Annotated TabNet\n",
    "toc: true\n",
    "use_math: true\n",
    "\n",
    "---\n",
    "\n"
   ]
  },
  {
   "attachments": {},
   "cell_type": "markdown",
   "metadata": {},
   "source": []
  },
  {
   "attachments": {},
   "cell_type": "markdown",
   "metadata": {
    "id": "Zbv8cp1i40yO"
   },
   "source": [
    "![tabnet_diagram](../images/tabnet.png)\n",
    "## Introduction\n",
    "We are talking about [TabNet](https://arxiv.org/abs/1908.07442) today which is a network designed for Tabular data. One aspect that tree based models such as Random Forest (RF) and XgBoost can claim over Neural Nets is the explainability of the model.\n",
    "\n",
    "Personally, one of the coolest features of this network is the ability for the network to point out which features were used in it's final decision. And these features change from input to input. We have a visual demo using MNIST below. RF does not have this kind of flexibility and is only one static graph for any kind of input.\n",
    "\n",
    "## Acknowledgement\n",
    "Kudos to [Paul Tune](https://www.linkedin.com/in/paul-tune-0ba18116/) for pointing out how to configure the loss function in keras. In terms of the actual implementation it was done very much thanks to this [YouTube talk](https://www.youtube.com/watch?v=ysBaZO8YmX8&ab_channel=AbhishekThakur) done by [Sebastien Fischman](https://www.linkedin.com/in/sebastienfischman/) and hosted by [Abhishek Thakur](https://www.linkedin.com/in/abhi1thakur/). Much of the TensorFlow code was very much a reimplimentation of the [PyTorch code](https://github.com/dreamquark-ai/tabnet/blob/develop/pytorch_tabnet/tab_network.py)."
   ]
  },
  {
   "cell_type": "code",
   "execution_count": 2,
   "metadata": {
    "colab": {
     "base_uri": "https://localhost:8080/"
    },
    "id": "miFAUt7u4l9Q",
    "outputId": "2fbdcf4f-d5af-4774-ed5b-1ff61cf87c9a"
   },
   "outputs": [
    {
     "name": "stdout",
     "output_type": "stream",
     "text": [
      "Collecting tensorflow_addons\n",
      "\u001b[?25l  Downloading https://files.pythonhosted.org/packages/74/e3/56d2fe76f0bb7c88ed9b2a6a557e25e83e252aec08f13de34369cd850a0b/tensorflow_addons-0.12.1-cp37-cp37m-manylinux2010_x86_64.whl (703kB)\n",
      "\u001b[K     |████████████████████████████████| 706kB 5.5MB/s \n",
      "\u001b[?25hRequirement already satisfied: typeguard>=2.7 in /usr/local/lib/python3.7/dist-packages (from tensorflow_addons) (2.7.1)\n",
      "Installing collected packages: tensorflow-addons\n",
      "Successfully installed tensorflow-addons-0.12.1\n"
     ]
    }
   ],
   "source": [
    "#| include: false\n",
    "!pip install tensorflow_addons"
   ]
  },
  {
   "cell_type": "code",
   "execution_count": 3,
   "metadata": {
    "id": "z8YMNlsK3Chu"
   },
   "outputs": [],
   "source": [
    "#| include: false\n",
    "import multiprocessing as mp\n",
    "\n",
    "import matplotlib.pyplot as plt\n",
    "import numpy as np\n",
    "import tensorflow as tf\n",
    "from tensorflow import keras\n",
    "from tensorflow.keras import layers\n",
    "from tensorflow_addons.activations import sparsemax\n",
    "\n",
    "%matplotlib inline"
   ]
  },
  {
   "attachments": {},
   "cell_type": "markdown",
   "metadata": {
    "id": "psCDtgF17II0"
   },
   "source": [
    "## Model\n",
    "This section will outline the blocks that we have used in creating the overall model. See the [diagram](tabnet_diagram) above to refer to the sections mentioned below. We will not be talking about part (b) of the diagram as that from my understanding is only used for completing missing values.\n",
    "\n",
    "### Fully-Connected Block\n",
    "Let's look at section (c) of the diagram and especially one set of the blue-green-red boxes and call that one Fully-Connected layer. Instead of ReLU the authors have used a GLU activation (the calculation of which is shown in the first two lines). The `FCBlock` will form as one of the building blocks of the entire architecture."
   ]
  },
  {
   "cell_type": "code",
   "execution_count": 4,
   "metadata": {
    "id": "nBm6aGz_K66A"
   },
   "outputs": [],
   "source": [
    "def GLU(x):\n",
    "    return x * tf.sigmoid(x)\n",
    "\n",
    "class FCBlock(layers.Layer):\n",
    "    def __init__(self, units):\n",
    "        super().__init__()\n",
    "        self.layer = layers.Dense(units)\n",
    "        self.bn = layers.BatchNormalization()\n",
    "\n",
    "    def call(self, x):\n",
    "        return GLU(self.bn(self.layer(x)))"
   ]
  },
  {
   "attachments": {},
   "cell_type": "markdown",
   "metadata": {
    "id": "jO4fvPfNWaGK"
   },
   "source": [
    "### Feature Transformer\n",
    "Next bit of the feature transformer in section (c) is the Shared Block and the Decision Block which look extrememly similar. This is why I sub-classed `DecisionBlock` to have parent `SharedBlock`. Also worth mentioning that this is all possible thanks to the new features of TensorFlow 2.0+.\n",
    "\n",
    "The shared block is simply stacking two `FCBlock`s with a residual connection which is multiplied by `sqrt(0.5)`. I'm not sure if this multiplication is necessary but I will leave it in.\n",
    "\n",
    "The decision block is almost the same except that there are two residual connections.\n",
    "\n",
    "Now in terms of functionality, refer to section (a) of the diagram. The user needs to define the number of steps as one of the hyper-parameters. The feature transformer is repeated number of steps + 1 many times. In this, the `SharedBlock` weights are shared across all of that, whereas the `DecisionBlock` weights are different for each step."
   ]
  },
  {
   "cell_type": "code",
   "execution_count": 5,
   "metadata": {
    "id": "wOwt4OS2c1Sj"
   },
   "outputs": [],
   "source": [
    "class SharedBlock(layers.Layer):\n",
    "    def __init__(self, units, mult=tf.sqrt(0.5)):\n",
    "        super().__init__()\n",
    "        self.layer1 = FCBlock(units)\n",
    "        self.layer2 = FCBlock(units)\n",
    "        self.mult = mult\n",
    "\n",
    "    def call(self, x):\n",
    "        out1 = self.layer1(x)\n",
    "        out2 = self.layer2(out1)\n",
    "        return out2 + self.mult * out1\n",
    "\n",
    "class DecisionBlock(SharedBlock):\n",
    "    def __init__(self, units, mult=tf.sqrt(0.5)):\n",
    "        super().__init__(units, mult)\n",
    "\n",
    "    def call(self, x):\n",
    "        out1 = x * self.mult + self.layer1(x)\n",
    "        out2 = out1 * self.mult + self.layer2(out1)\n",
    "        return out2"
   ]
  },
  {
   "attachments": {},
   "cell_type": "markdown",
   "metadata": {
    "id": "bFuk2BAuY00q"
   },
   "source": [
    "### Attentive Transformer\n",
    "This is the part where the magic happens. The attentive transformer decides which bits of the input features (x) it needs to pay attention (mask) at each step.\n",
    "\n",
    "Before, talking about the Attentive transformer we need to talk about the `split` module and the `prior` layers. The split module simply splits the output of the feature transformer into two portions. One portion which feeds into the attentive transformer, and the other which goes into the output of our overall network. The portions (`n_d, n_a`) are hyper-parameters that the user needs to specify and it would sum to the number of output nodes of the decision layer.\n",
    "\n",
    "The attentive layer takes the `n_a` output nodes from the decision block, runs it through a dense layer and batch norm layer before passing through a `sparsemax` layer. Sparsemax is similar to softmax in that the output sums to one. However, it drives some of the smaller outputs to exactly zero unlike softmax (which can only get close to zero). It is important to note that the dense layer used here projects `n_a` nodes to the same dimensionality as the input features, as we will use this as a mask to select features.\n",
    "\n",
    "The prior layer is used as a tool to suppress some of the inputs that were used before in a previous step. In the first step none of the input had been used before, and therefore the output of the attentive transformer is unaffected by the prior. However, in the second step (and onwards), the prior is updated to be `prior = previous_prior * (constant - previous_mask)`. The constant mentioned here is a number close to one. Therefore, if the `previous_mask` output by the attentive mask had numbers close to one, the prior is pushed closer to zero, whereas the unused inputs having a mask close to zero, would have a prior closer to one. The priors closer to zero would effectively act as a suppressant before passing into the sparsemax activation in the attentive layer.\n",
    "\n",
    "The reason that we attempt to use this kind of prior is so that each step attempts to find unique features which adds to the output of the network."
   ]
  },
  {
   "cell_type": "code",
   "execution_count": 6,
   "metadata": {
    "id": "k4SIFogzQ6Rq"
   },
   "outputs": [],
   "source": [
    "class Prior(layers.Layer):\n",
    "    def __init__(self, gamma=1.1):\n",
    "        super().__init__()\n",
    "        self.gamma = gamma\n",
    "\n",
    "    def reset(self):\n",
    "        self.P = 1.0\n",
    "\n",
    "    def call(self, mask):\n",
    "        self.P = self.P * (self.gamma - mask)\n",
    "        return self.P"
   ]
  },
  {
   "cell_type": "code",
   "execution_count": 7,
   "metadata": {
    "id": "dvU98D5SP6IC"
   },
   "outputs": [],
   "source": [
    "class AttentiveTransformer(layers.Layer):\n",
    "    def __init__(self, units):\n",
    "        super().__init__()\n",
    "        self.layer = layers.Dense(units)\n",
    "        self.bn = layers.BatchNormalization()\n",
    "\n",
    "    def call(self, x, prior):\n",
    "        return sparsemax(prior * self.bn(self.layer(x)))"
   ]
  },
  {
   "attachments": {},
   "cell_type": "markdown",
   "metadata": {
    "id": "11yI2G5amCEU"
   },
   "source": [
    "### Putting it All Together\n",
    "Much of the architecture has already been discussed in the two previous sections. However, there is two more missing pieces.\n",
    "\n",
    "Firstly, the loss function. In additional to the loss function that is used for the task (CrossEntropy in the case of MNIST classification), there is an additional loss on the mask values to drive the values towards either 0 or 1. The (entropy) loss is defined as follows:\n",
    "$$\n",
    "\\begin{align}\n",
    "L_{mask} = - M \\log (M + \\epsilon)\n",
    "\\end{align}\n",
    "$$\n",
    "The plot below shows entropy as a function of one mask value. We average out all available mask entropy values to get final loss. Note how they are minimised at either extreme."
   ]
  },
  {
   "cell_type": "code",
   "execution_count": 8,
   "metadata": {
    "colab": {
     "base_uri": "https://localhost:8080/",
     "height": 279
    },
    "id": "yXFxmseCo73u",
    "outputId": "4e832e5f-e4b4-46fd-ef2a-80532de659db"
   },
   "outputs": [
    {
     "data": {
      "image/png": "[encoded data removed]",
      "text/plain": [
       "<Figure size 432x288 with 1 Axes>"
      ]
     },
     "metadata": {
      "needs_background": "light",
      "tags": []
     },
     "output_type": "display_data"
    }
   ],
   "source": [
    "#| echo: false\n",
    "p = np.arange(0.01, 1, 0.01)\n",
    "e = - p * np.log(p)\n",
    "plt.plot(p, e)\n",
    "plt.xlabel(\"mask\")\n",
    "plt.ylabel(\"entropy\")\n",
    "plt.show()"
   ]
  },
  {
   "attachments": {},
   "cell_type": "markdown",
   "metadata": {
    "id": "_bHpTOmcpnYq"
   },
   "source": [
    "The second part that we have not discussed so far is the actual output of the model. The `n_d` number of inputs that do not go through the attentive layer gets passed through a ReLU activation at each step before being added up for the final output. This is compared against a target by using a task specific loss function (cross-entropy in our case).\n",
    "\n",
    "One other thing I'd like to bring your attention to (see what I did there?) is the fact that I used a for loop inside the `call` function in the Module below. It might seem like a minor thing, but this kind of flexibility in building a model was not available before to my knowledge.\n",
    "\n",
    "### Mask Importance\n",
    "The whole point of building this model was to be able to select features and to be able to explain the model. The way that we calculate feature importance is by calculating the importance of each step, and by multiplying that by the mask.\n",
    "\n",
    "Step importance is calculated as the sum of the (`n_d`) outputs of the feature transformer."
   ]
  },
  {
   "cell_type": "code",
   "execution_count": 35,
   "metadata": {
    "id": "2akD2eaCQCbr"
   },
   "outputs": [],
   "source": [
    "#| code-fold: true\n",
    "class TabNet(keras.Model):\n",
    "    def __init__(self, input_dim, output_dim, steps, n_d, n_a, gamma=1.3):\n",
    "        super().__init__()\n",
    "        # hyper-parameters\n",
    "        self.n_d, self.n_a, self.steps = n_d, n_a, steps\n",
    "        # input-normalisation\n",
    "        self.bn = layers.BatchNormalization()\n",
    "        # Feature Transformer\n",
    "        self.shared = SharedBlock(n_d+n_a)\n",
    "        self.first_block = DecisionBlock(n_d+n_a)\n",
    "        self.decision_blocks = [DecisionBlock(n_d+n_a)] * steps\n",
    "        # Attentive Transformer\n",
    "        self.attention = [AttentiveTransformer(input_dim)] * steps\n",
    "        self.prior_scale = Prior(gamma)\n",
    "        # final layer\n",
    "        self.final = layers.Dense(output_dim)\n",
    "\n",
    "        self.eps = 1e-8\n",
    "        self.add_layer = layers.Add()\n",
    "\n",
    "    @tf.function\n",
    "    def call(self, x):\n",
    "        self.prior_scale.reset()\n",
    "        final_outs = []\n",
    "        mask_losses = []\n",
    "\n",
    "        x = self.bn(x)\n",
    "        attention = self.first_block(self.shared(x))[:,:self.n_a]\n",
    "        for i in range(self.steps):\n",
    "            mask = self.attention[i](attention, self.prior_scale.P)\n",
    "            entropy = mask * tf.math.log(mask + self.eps)\n",
    "            mask_losses.append(\n",
    "                -tf.reduce_sum(entropy, axis=-1) / self.steps\n",
    "            )\n",
    "\n",
    "            prior = self.prior_scale(mask)\n",
    "            out = self.decision_blocks[i](self.shared(x * prior))\n",
    "            attention, output = out[:,:self.n_a], out[:,self.n_a:]\n",
    "            final_outs.append(tf.nn.relu(output))\n",
    "\n",
    "        final_out = self.add_layer(final_outs)\n",
    "        mask_loss = self.add_layer(mask_losses)\n",
    "\n",
    "        return self.final(final_out), mask_loss\n",
    "\n",
    "    def mask_importance(self, x):\n",
    "        self.prior_scale.reset()\n",
    "        feature_importance = 0\n",
    "\n",
    "        x = self.bn(x)\n",
    "        attention = self.first_block(self.shared(x))[:,:self.n_a]\n",
    "        for i in range(self.steps):\n",
    "            mask = self.attention[i](attention, self.prior_scale.P)\n",
    "\n",
    "            prior = self.prior_scale(mask)\n",
    "            out = self.decision_blocks[i](self.shared(x * prior))\n",
    "            attention, output = out[:,:self.n_a], out[:,self.n_a:]\n",
    "            step_importance = tf.reduce_sum(tf.nn.relu(output), axis=1, keepdims=True)\n",
    "            feature_importance += mask * step_importance\n",
    "\n",
    "        return feature_importance"
   ]
  },
  {
   "cell_type": "code",
   "execution_count": 23,
   "metadata": {
    "id": "pQxZE8YXVTBr"
   },
   "outputs": [],
   "source": [
    "#| include: false\n",
    "(x_train, y_train), (x_test, y_test) = tf.keras.datasets.mnist.load_data()\n",
    "x_train = x_train.reshape((len(x_train), -1)).astype(np.float32)\n",
    "x_test = x_test.reshape((len(x_test), -1)).astype(np.float32)"
   ]
  },
  {
   "attachments": {},
   "cell_type": "markdown",
   "metadata": {
    "id": "3O_tWiNcScmB"
   },
   "source": [
    "## Loss and Fitting\n",
    "Now this is the part that I thought was strange in the keras API, unless I'm doing something wrong. Looking at the `TabNet` class above, it returns the actual prediction, and the `mask_loss`. From my understanding of loss functions in keras, it is always the \"true y\" and the \"predictions\" over which we need to define a loss.\n",
    "\n",
    "As shown below my initial attempt was to unpack the predictions into logits and mask losses, and then in the next line to take the cross entropy and average out the mask loss. This however resulted in an error.\n",
    "\n",
    "What did work however, was to define `mask_loss` function defined below which ignores the `y_true` input, and to add the `loss_weights` during `model.compile`. It seems like attempting to add a breakpoint and debug does not seem to work after you run `model.compile`."
   ]
  },
  {
   "cell_type": "code",
   "execution_count": 17,
   "metadata": {
    "id": "m6J-M8EmyYxy"
   },
   "outputs": [],
   "source": [
    "#| code-fold: true\n",
    "from keras.losses import SparseCategoricalCrossentropy\n",
    "\n",
    "sce = SparseCategoricalCrossentropy(from_logits=True)\n",
    "reg_sparse = 0.01\n",
    "def full_loss(y_true, y_pred):\n",
    "    logits, mask_loss = y_pred\n",
    "    return sce(y_true, logits) + reg_sparse * mask_loss.mean()"
   ]
  },
  {
   "cell_type": "code",
   "execution_count": 36,
   "metadata": {
    "colab": {
     "base_uri": "https://localhost:8080/"
    },
    "id": "-BAiVddZMm9A",
    "outputId": "f6d1c2b0-be0e-4f36-a626-34195847691d"
   },
   "outputs": [
    {
     "name": "stdout",
     "output_type": "stream",
     "text": [
      "Epoch 1/5\n",
      "200/200 [==============================] - 24s 96ms/step - loss: 1.7993 - output_1_loss: 1.7842 - output_2_loss: 1.5173 - val_loss: 0.6537 - val_output_1_loss: 0.6461 - val_output_2_loss: 0.7665\n",
      "Epoch 2/5\n",
      "200/200 [==============================] - 19s 94ms/step - loss: 0.5893 - output_1_loss: 0.5828 - output_2_loss: 0.6446 - val_loss: 0.2964 - val_output_1_loss: 0.2923 - val_output_2_loss: 0.4080\n",
      "Epoch 3/5\n",
      "200/200 [==============================] - 19s 94ms/step - loss: 0.2887 - output_1_loss: 0.2849 - output_2_loss: 0.3869 - val_loss: 0.2182 - val_output_1_loss: 0.2151 - val_output_2_loss: 0.3119\n",
      "Epoch 4/5\n",
      "200/200 [==============================] - 19s 95ms/step - loss: 0.2148 - output_1_loss: 0.2118 - output_2_loss: 0.3055 - val_loss: 0.1908 - val_output_1_loss: 0.1882 - val_output_2_loss: 0.2625\n",
      "Epoch 5/5\n",
      "200/200 [==============================] - 19s 94ms/step - loss: 0.1764 - output_1_loss: 0.1737 - output_2_loss: 0.2686 - val_loss: 0.1775 - val_output_1_loss: 0.1751 - val_output_2_loss: 0.2383\n"
     ]
    },
    {
     "data": {
      "text/plain": [
       "<tensorflow.python.keras.callbacks.History at 0x7f6402c12510>"
      ]
     },
     "execution_count": 36,
     "metadata": {
      "tags": []
     },
     "output_type": "execute_result"
    }
   ],
   "source": [
    "#| code-fold: true\n",
    "def mask_loss(y_true, mask_losses):\n",
    "    return tf.reduce_mean(mask_losses)\n",
    "\n",
    "model = TabNet(784, 10, 2, 10, 10, 1.3)\n",
    "model.compile(\n",
    "    'Adam', \n",
    "    loss=[sce, mask_loss],\n",
    "    loss_weights=[1, 0.01]\n",
    ")\n",
    "model.fit(\n",
    "    x_train, \n",
    "    y_train, \n",
    "    epochs=5, \n",
    "    batch_size=256, \n",
    "    validation_split=0.15,\n",
    "    workers=mp.cpu_count()\n",
    ")"
   ]
  },
  {
   "attachments": {},
   "cell_type": "markdown",
   "metadata": {
    "id": "TwoHcV16b8yr"
   },
   "source": [
    "## Results\n",
    "Model has 91.8% accuracy on test set. See below for calculation."
   ]
  },
  {
   "cell_type": "code",
   "execution_count": 37,
   "metadata": {
    "colab": {
     "base_uri": "https://localhost:8080/"
    },
    "id": "x5ASHke4blBx",
    "outputId": "70160ad4-913c-4cf4-c125-b224e56c1bc0"
   },
   "outputs": [
    {
     "data": {
      "text/plain": [
       "0.918"
      ]
     },
     "execution_count": 37,
     "metadata": {
      "tags": []
     },
     "output_type": "execute_result"
    }
   ],
   "source": [
    "#| code-fold: true\n",
    "y_pred = model.predict(x_test)[0].argmax(axis=-1)\n",
    "(y_pred == y_test).mean()"
   ]
  },
  {
   "attachments": {},
   "cell_type": "markdown",
   "metadata": {
    "id": "8ass1d0VcIQ5"
   },
   "source": [
    "Let's see what features got picked up for the first ten images:"
   ]
  },
  {
   "cell_type": "code",
   "execution_count": 46,
   "metadata": {
    "colab": {
     "base_uri": "https://localhost:8080/",
     "height": 742
    },
    "id": "kP4mBzWOE8n3",
    "outputId": "4d46fba7-3a67-4280-db49-4cc636f2f003"
   },
   "outputs": [
    {
     "data": {
      "image/png": "[encoded data removed]",
      "text/plain": [
       "<Figure size 432x288 with 3 Axes>"
      ]
     },
     "metadata": {
      "needs_background": "light",
      "tags": []
     },
     "output_type": "display_data"
    },
    {
     "data": {
      "image/png": "[encoded data removed]",
      "text/plain": [
       "<Figure size 432x288 with 3 Axes>"
      ]
     },
     "metadata": {
      "needs_background": "light",
      "tags": []
     },
     "output_type": "display_data"
    },
    {
     "data": {
      "image/png": "[encoded data removed]",
      "text/plain": [
       "<Figure size 432x288 with 3 Axes>"
      ]
     },
     "metadata": {
      "needs_background": "light",
      "tags": []
     },
     "output_type": "display_data"
    },
    {
     "data": {
      "image/png": "[encoded data removed]",
      "text/plain": [
       "<Figure size 432x288 with 3 Axes>"
      ]
     },
     "metadata": {
      "needs_background": "light",
      "tags": []
     },
     "output_type": "display_data"
    },
    {
     "data": {
      "image/png": "[encoded data removed]",
      "text/plain": [
       "<Figure size 432x288 with 3 Axes>"
      ]
     },
     "metadata": {
      "needs_background": "light",
      "tags": []
     },
     "output_type": "display_data"
    }
   ],
   "source": [
    "#| echo: false\n",
    "N = 5\n",
    "query = x_test[:N]\n",
    "importance = model.mask_importance(query).numpy()\n",
    "y_pred = model.predict(query)[0].argmax(axis=-1)\n",
    "\n",
    "for k in range(N):\n",
    "    fig, ax = plt.subplots(1, 3)\n",
    "    img = x_test[k].reshape(28, 28)\n",
    "    feature_importance = importance[k].reshape(28, 28)\n",
    "    num_nonzero = (importance[k] != 0).sum()\n",
    "\n",
    "    ax[0].imshow(img, cmap=\"gray\")\n",
    "    ax[0].set_title(f\"Prediction {y_pred[k]}\")\n",
    "    ax[1].imshow(feature_importance)\n",
    "    ax[1].set_title(f\"{num_nonzero} important features\")\n",
    "    \n",
    "    ax[2].imshow(img / 500 + (feature_importance!=0).astype(np.float))\n",
    "    fig.show()"
   ]
  },
  {
   "attachments": {},
   "cell_type": "markdown",
   "metadata": {
    "id": "X6_sZmzoioIA"
   },
   "source": [
    "As can be seen in most images the important features on the actual digit itself. However, with the first two images above there are no important features in the actual digit.\n",
    "\n",
    "It is worth noting that the MNIST digit is not a binary image and even in the far corners the pixel values may not be exactly zero. Alternatively, it is also fathomable to think that the net is making sure that the pixels are zero in certain parts of the image to ensure that the digit is of a certain shape.\n",
    "\n",
    "## Conclusion\n",
    "Hopefully that demystified TabNets. I personally feel like the sparsemax activation is not explored enough in other areas of DL and probably has more to contribute in the coming years.\n",
    "\n",
    "In terms of TabNet, it's great to see explainability being the pure focus of a paper. The experiments conducted in the paper claims that it has beaten XgBoost in some benchmarks and hopefully TabNet will be the gold standard in this space.\n",
    "\n",
    "Finally, it was really good to play with Tensorflow 2 in a familiar environment to pytorch users.\n",
    "\n",
    "## Shameless Self Promotion\n",
    "See [here for my course](https://www.udemy.com/course/machine-learning-and-data-science-2021/?couponCode=DEEPSCHOOL-MARCH) on Machine Learning and Deep Learning (Use code DEEPSCHOOL-MARCH to 85% off)."
   ]
  },
  {
   "cell_type": "code",
   "execution_count": null,
   "metadata": {
    "id": "e4ZxR9NGbn7p"
   },
   "outputs": [],
   "source": []
  }
 ],
 "metadata": {
  "colab": {
   "collapsed_sections": [],
   "name": "Tabnet From Scratch",
   "provenance": []
  },
  "kernelspec": {
   "display_name": "Python 3",
   "language": "python",
   "name": "python3"
  },
  "language_info": {
   "codemirror_mode": {
    "name": "ipython",
    "version": 3
   },
   "file_extension": ".py",
   "mimetype": "text/x-python",
   "name": "python",
   "nbconvert_exporter": "python",
   "pygments_lexer": "ipython3",
   "version": "3.7.9"
  }
 },
 "nbformat": 4,
 "nbformat_minor": 1
}
